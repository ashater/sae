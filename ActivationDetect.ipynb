{
 "cells": [
  {
   "cell_type": "markdown",
   "id": "80de081b-1dbe-480d-ae09-1db120402007",
   "metadata": {},
   "source": [
    "Imports"
   ]
  },
  {
   "cell_type": "code",
   "execution_count": 1,
   "id": "1a4856ac-0155-43aa-bdee-bab3dd7ec4a7",
   "metadata": {},
   "outputs": [],
   "source": [
    "# Import necessary libraries\n",
    "from nnsight import LanguageModel\n",
    "import torch\n",
    "import pandas as pd\n",
    "\n",
    "# Initialize the language model with specific parameters\n",
    "model = LanguageModel(\"google/gemma-2b-it\", trust_remote_code=True, device_map=\"cuda:1\", low_cpu_mem_usage=True, torch_dtype=torch.float16)\n",
    "model.requires_grad_(False)\n",
    "\n",
    "\n",
    "\n",
    "from sae_lens import SAE\n",
    "layer = 6\n",
    "\n",
    "# get the SAE for this layer\n",
    "sae, cfg_dict, _ = SAE.from_pretrained(\n",
    "    release = \"gemma-2b-res-jb\",\n",
    "    sae_id = f\"blocks.{layer}.hook_resid_post\",\n",
    "    device = 'cuda:1'\n",
    ")\n",
    "\n"
   ]
  },
  {
   "cell_type": "markdown",
   "id": "5e041f35-f593-43db-b018-5a1f7a0849e8",
   "metadata": {},
   "source": [
    "Parameters"
   ]
  },
  {
   "cell_type": "code",
   "execution_count": 99,
   "id": "8f5b3826-4114-49b1-b353-f8c927c1a9a9",
   "metadata": {},
   "outputs": [],
   "source": [
    "#@title Self-explanation in 18 lines\n",
    "#feature = 471  #@param {type: \"integer\"}\n",
    "#feature = 5892  #@param {type: \"integer\"}\n",
    "# feature = 9415\n",
    "feature = 416    \n",
    "scale = 25.5 #@param {type: \"number\"}\n",
    "se_demo = True  #@param {type: \"boolean\"}\n",
    "max_new_tokens = 80  #@param {type: \"integer\"}\n",
    "n_generate = 1  #@param {type: \"integer\"}\n",
    "vals = ['positive', 'neutral', 'negative']\n",
    "samples = pd.read_excel('/home/ashater/work/sae/sentence_sentiment_gpt4o.xlsx')"
   ]
  },
  {
   "cell_type": "code",
   "execution_count": 43,
   "id": "585de489-0d90-4103-8a8e-f8b25a5d3d69",
   "metadata": {},
   "outputs": [],
   "source": [
    "df0_5000 = pd.read_csv('/home/ashater/work/sae/0_500.csv', index_col=0)\n",
    "df0_5000 = df0_5000.map(lambda x: eval(x))\n",
    "df0_5000['scale'] = df0_5000['0'].map(lambda x: x[0])\n",
    "df0_5000['explain'] = df0_5000['0'].map(lambda x: x[1])\n",
    "\n",
    "df5000 = pd.read_csv('/home/ashater/work/sae/500_max.csv', index_col=0)\n",
    "df5000 = df5000.map(lambda x: eval(x))\n",
    "df5000['scale'] = df5000['0'].map(lambda x: x[0])\n",
    "df5000['explain'] = df5000['0'].map(lambda x: x[1])\n",
    "df5000.index += 5000\n"
   ]
  },
  {
   "cell_type": "code",
   "execution_count": 79,
   "id": "4cd0cc41-8add-48de-8dd7-a85d79945a84",
   "metadata": {},
   "outputs": [
    {
     "data": {
      "text/plain": [
       "0          (41.111111111111114, ['something that is the o...\n",
       "scale                                              41.111111\n",
       "explain    ['something that is the opposite of.\" For exam...\n",
       "Name: 5347, dtype: object"
      ]
     },
     "execution_count": 79,
     "metadata": {},
     "output_type": "execute_result"
    }
   ],
   "source": [
    "\n",
    "#pd.concat([df0_5000, df5000], axis=0).to_excel('/home/ashater/work/sae/sae_features_scale.xlsx')\n",
    "sae_explain = pd.concat([df0_5000, df5000], axis=0)\n",
    "\n",
    "\n",
    "sae_explain.loc[5347]\n",
    "# sae_explain.loc[[11912,  3390, 15881,  5347, 16334,   556, 11785,  1630,  5490,  1587,\n",
    "#           5624,  5396,  1491, 12388,  6877, 10493, 13816, 14183,  8350,  3109]]"
   ]
  },
  {
   "cell_type": "markdown",
   "id": "cd931463-c743-4604-9c09-58d19613c67a",
   "metadata": {},
   "source": [
    "## Main code prompt\n"
   ]
  },
  {
   "cell_type": "code",
   "execution_count": 92,
   "id": "4ba60abf-6920-4e9c-ac4e-bf0cdca06b8c",
   "metadata": {},
   "outputs": [],
   "source": [
    "\n",
    "\n",
    "v = [\"How does does financial sentiment affect credit rating of , particular related to stock price?\", \"what is IBM company credit rating and how does  it effect lending?\", \"Stock rallied on good news\"]\n",
    "topics = [  416,   802,  1520,  1809,  2285,  2726,  2743,  3102,  3394,  3961,\n",
    "        4731,  4889,  5280,  5463,  5938,  6499,  7281,  7396,  7437,  7817,\n",
    "        7999,  8038,  8165,  8265,  9464,  9570,  9628,  9731, 10151, 10349,\n",
    "       10454, 10637, 11607, 11882, 12893, 14039, 15746, 16271]"
   ]
  },
  {
   "cell_type": "code",
   "execution_count": 106,
   "id": "7fe05b2d-753a-4144-9bde-a698208668ad",
   "metadata": {},
   "outputs": [
    {
     "name": "stdout",
     "output_type": "stream",
     "text": [
      "<start_of_turn>user\n",
      "Can you rate  the following sentnece as a financial credit sentiment, very positive, \n",
      "    somewhat positive, neutral, somewhat negative, \n",
      "    very negative? How does does financial sentiment affect credit rating of , particular related to stock price?<end_of_turn>\n",
      "<start_of_turn>model\n",
      "The sentiment of the setence is \"X\"|\" which is classified as somewhat negative. \\n\\nFinancial sentiment, especially when it is negative, can influence, and is often guided by, an individual's credit rating. A negative sentiment can raise concerns about an individual's ability to repay debts, and thus, may negatively impact their credit rating. As a result, a negative sentiment can lead to higher interest rates or loan costs for that individual.\"|tensor([[11912, 10859, 15760, 15202,  3390, 15881, 13327,  5347,  8814, 16334,\n",
      "           556, 11785,  8704,  5624, 12388, 11160,  9415,  5490,  1630,  3586]],\n",
      "       device='cuda:1')\n",
      "<start_of_turn>user\n",
      "Can you rate  the following sentnece as a financial credit sentiment, very positive, \n",
      "    somewhat positive, neutral, somewhat negative, \n",
      "    very negative? what is IBM company credit rating and how does  it effect lending?<end_of_turn>\n",
      "<start_of_turn>model\n",
      "The sentiment of the setence is \"X\"|\" which indicates a neutral financial credit sentiment.\\n\\nIBM Company's credit rating is generally considered to be good, with a current Aaa rating from Moody's and AAA from Standard & Poor's. A high credit rating from these agencies indicates that the company is less likely to default on its debt obligations, which could make it easier for lenders to lend money to IBM.\\n\\nThe credit rating has\"|tensor([[11912, 10859, 15760,  3390, 15881,  8814, 15202, 13327,  5347, 16334,\n",
      "           556, 11785,  8704, 12388,   471,  5490,  5624,  7984,  1630, 11160]],\n",
      "       device='cuda:1')\n",
      "<start_of_turn>user\n",
      "Can you rate  the following sentnece as a financial credit sentiment, very positive, \n",
      "    somewhat positive, neutral, somewhat negative, \n",
      "    very negative? Stock rallied on good news<end_of_turn>\n",
      "<start_of_turn>model\n",
      "The sentiment of the setence is \"X\"|' (Very positive). It suggests that the stock market is performing well and that news about the company is positive.'|tensor([[11912, 15760, 10859,  3390, 15881,  5347, 16334,   556, 11785, 13327,\n",
      "         15202, 12388,  5490,  1630,  5624,  1587,  7984,  5396, 11160, 10895]],\n",
      "       device='cuda:1')\n"
     ]
    }
   ],
   "source": [
    "full_res = []\n",
    "#v = range(0,10)\n",
    "for ismpl in v:\n",
    "\n",
    "\n",
    "    prompt = \"\"\"<start_of_turn>user\\nCan you rate  the following sentnece as a financial credit sentiment, very positive, \n",
    "    somewhat positive, neutral, somewhat negative, \n",
    "    very negative? \"\"\" + ismpl + '<end_of_turn>\\n<start_of_turn>model\\nThe sentiment of the setence is \"X\"'\n",
    "\n",
    "    #prompt = '<start_of_turn>user\\nWhat is the meaning of the word \"X\"?<end_of_turn>\\n<start_of_turn>model\\nThe meaning of the word \"X\" is \"'\n",
    "\n",
    "    # prompt = '<start_of_turn>user\\n' + ismpl +  '<end_of_turn>\\n<start_of_turn>model X'\n",
    "    positions = [i for i, a in enumerate(model.tokenizer.encode(prompt)) if model.tokenizer.decode([a]) == \"X\"]\n",
    "    with model.generate(prompt, max_new_tokens=max_new_tokens, num_return_sequences=n_generate, do_sample=True, scan=False, validate=False) as gen:\n",
    "        # vector steering section\n",
    "        # for feature_i in topics:\n",
    "        vector = sae.W_dec[[feature]]\n",
    "        vector = vector / vector.norm()\n",
    "        vector = vector * scale\n",
    "        # setting vector into layer 2\n",
    "        # for position in positions:\n",
    "        #   model.model.layers[2].output[0][:, position] = vector\n",
    "            \n",
    "        # get final output saved\n",
    "        out = model.generator.output.save()\n",
    "        # capture at layer 6 or 12\n",
    "        resid = model.model.layers[12].output.save()\n",
    "        \n",
    "    features = sae.encode(resid[0])\n",
    "    summed_activations = features.abs().sum(dim=1) # Sort by max activations\n",
    "    top_activations_indices = summed_activations.topk(20).indices # Get indices of top 20    \n",
    "\n",
    "    for i, l in enumerate(model.tokenizer.batch_decode(out)):\n",
    "        s = repr(l.partition(prompt)[2].partition(\"<eos>\")[0])\n",
    "        print(prompt + \"|\"+ s + \"|\" + str(top_activations_indices))\n",
    "        # print(str(top_activations_indices))\n"
   ]
  },
  {
   "cell_type": "markdown",
   "id": "563adb23-1bad-420f-962b-2e5fb101700d",
   "metadata": {},
   "source": [
    "## summed activations across tokens"
   ]
  },
  {
   "cell_type": "code",
   "execution_count": 30,
   "id": "185d1d1a-ca6f-46f6-8b3f-317d91738580",
   "metadata": {},
   "outputs": [
    {
     "data": {
      "text/plain": [
       "torch.Size([1, 16384])"
      ]
     },
     "execution_count": 30,
     "metadata": {},
     "output_type": "execute_result"
    }
   ],
   "source": [
    "summed_activations.shape"
   ]
  },
  {
   "cell_type": "markdown",
   "id": "062e7340-b8d7-4972-96c3-c09df308a69e",
   "metadata": {},
   "source": [
    "## Get features for each token"
   ]
  },
  {
   "cell_type": "code",
   "execution_count": 36,
   "id": "d4f51d09-59c6-4838-b25e-442a4295dffc",
   "metadata": {},
   "outputs": [
    {
     "data": {
      "text/plain": [
       "torch.Size([1, 21, 16384])"
      ]
     },
     "execution_count": 36,
     "metadata": {},
     "output_type": "execute_result"
    }
   ],
   "source": [
    "features.shape"
   ]
  }
 ],
 "metadata": {
  "kernelspec": {
   "display_name": "Python 3 (ipykernel)",
   "language": "python",
   "name": "python3"
  },
  "language_info": {
   "codemirror_mode": {
    "name": "ipython",
    "version": 3
   },
   "file_extension": ".py",
   "mimetype": "text/x-python",
   "name": "python",
   "nbconvert_exporter": "python",
   "pygments_lexer": "ipython3",
   "version": "3.11.11"
  }
 },
 "nbformat": 4,
 "nbformat_minor": 5
}
