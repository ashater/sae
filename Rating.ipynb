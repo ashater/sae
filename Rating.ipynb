{
 "cells": [
  {
   "cell_type": "markdown",
   "id": "80de081b-1dbe-480d-ae09-1db120402007",
   "metadata": {},
   "source": [
    "Imports"
   ]
  },
  {
   "cell_type": "code",
   "execution_count": 1,
   "id": "1a4856ac-0155-43aa-bdee-bab3dd7ec4a7",
   "metadata": {},
   "outputs": [],
   "source": [
    "# Import necessary libraries\n",
    "from nnsight import LanguageModel\n",
    "import torch\n",
    "\n",
    "# Initialize the language model with specific parameters\n",
    "model = LanguageModel(\"google/gemma-2b-it\", trust_remote_code=True, device_map=\"auto\", low_cpu_mem_usage=True, torch_dtype=torch.float16)\n",
    "model.requires_grad_(False)\n",
    "\n",
    "# Download the SAE weights file (commented out)\n",
    "#!wget -c 'https://huggingface.co/jbloom/Gemma-2b-Residual-Stream-SAEs/resolve/main/gemma_2b_blocks.6.hook_resid_post_16384_anthropic_fast_lr/sae_weights.safetensors?download=true' -O 'sae.safetensors'\n",
    "\n",
    "# Load the SAE weights using safetensors\n",
    "from safetensors import safe_open\n",
    "with safe_open(\"/home/ashater/work/sae.safetensors\", framework=\"pt\") as st:\n",
    "    w_dec = st.get_tensor(\"W_dec\")\n",
    "\n",
    "import pandas as pd"
   ]
  },
  {
   "cell_type": "markdown",
   "id": "5e041f35-f593-43db-b018-5a1f7a0849e8",
   "metadata": {},
   "source": [
    "Parameters"
   ]
  },
  {
   "cell_type": "code",
   "execution_count": 2,
   "id": "8f5b3826-4114-49b1-b353-f8c927c1a9a9",
   "metadata": {},
   "outputs": [],
   "source": [
    "#@title Self-explanation in 18 lines\n",
    "feature = 471  #@param {type: \"integer\"}\n",
    "#feature = 5892  #@param {type: \"integer\"}\n",
    "#feature = 9415\n",
    "scale = 67.5  #@param {type: \"number\"}\n",
    "se_demo = True  #@param {type: \"boolean\"}\n",
    "max_new_tokens = 80  #@param {type: \"integer\"}\n",
    "n_generate = 1  #@param {type: \"integer\"}\n",
    "vals = ['positive', 'neutral', 'negative']\n",
    "samples = pd.read_excel('/home/ashater/work/sae/sentence_sentiment_gpt4o.xlsx')"
   ]
  },
  {
   "cell_type": "markdown",
   "id": "cd931463-c743-4604-9c09-58d19613c67a",
   "metadata": {},
   "source": [
    "Main code\n"
   ]
  },
  {
   "cell_type": "code",
   "execution_count": 5,
   "id": "32f323c2-5595-4c03-9b35-7de2ab5e1f0d",
   "metadata": {},
   "outputs": [
    {
     "data": {
      "text/plain": [
       "torch.Size([16384, 2048])"
      ]
     },
     "execution_count": 5,
     "metadata": {},
     "output_type": "execute_result"
    }
   ],
   "source": [
    "w_dec.shape"
   ]
  },
  {
   "cell_type": "code",
   "execution_count": 3,
   "id": "4ba60abf-6920-4e9c-ac4e-bf0cdca06b8c",
   "metadata": {},
   "outputs": [],
   "source": [
    "#from dictionary_learning.dictionary import AutoEncoder\n",
    "#ae = AutoEncoder.from_pretrained(w_dec)\n",
    "\n",
    "v = samples[samples.Sentence.map(lambda x: ' rating ' in x)].index.tolist()\n"
   ]
  },
  {
   "cell_type": "code",
   "execution_count": 358,
   "id": "7fe05b2d-753a-4144-9bde-a698208668ad",
   "metadata": {},
   "outputs": [
    {
     "name": "stdout",
     "output_type": "stream",
     "text": [
      "Its credit rating was slashed to junk status after missing key financial benchmarks.|\"**Very negative**\\n\\nThe credit rating was slashed to junk status, indicating a significant decline in the issuer's creditworthiness and ability to repay debt.\"|tensor([[  471,  3553, 11912,  5419,  3390, 10859, 15881,  5347,  1630, 16334,\n",
      "          4579,   556,  5490, 11785,  1587,  5577,  9415,  1491, 15831,  2241]],\n",
      "       device='cuda:0')\n",
      "The business failed to meet debt repayment deadlines, leading to a credit rating downgrade.|\"**Somewhat negative**\\n\\nThe sentence indicates a negative impact on the business's credit rating due to missed debt repayments.\"|tensor([[ 3553,   471, 11912,  5419,  3390, 15881,  4675,  5347,  1630, 10859,\n",
      "          4579, 16334,   556,  5490, 11785, 13743,  1587,  9415,  5577,  1491]],\n",
      "       device='cuda:0')\n",
      "A downgrade of the vehicle’s credit rating has raised its borrowing costs significantly.|\"**Somewhat negative**\\n\\nThe sentence suggests that the vehicle's credit rating has been affected negatively, which could lead to higher borrowing costs in the future.\"|tensor([[  471,  3553, 11912,  3390,  5419, 15881,  9415,  5347, 10859,  1630,\n",
      "         16334,   556,  4579,  5490, 11785,  1587,  5577,  1491, 15831, 13327]],\n",
      "       device='cuda:0')\n",
      "A major credit rating downgrade of portfolio companies has raised overall risk levels.|'**Somewhat negative**\\n\\nThe sentence suggests that the credit ratings of portfolio companies may decline, which could lead to increased risk for investors.'|tensor([[  471,  3553, 11912,  5419,  3390, 15881, 10859,  5347,  1630,  4579,\n",
      "         16334,   556,  5490, 11785,  1587,  9415,  5577, 15831,  1491, 13327]],\n",
      "       device='cuda:0')\n",
      "The company’s credit rating was reaffirmed at BBB, reflecting moderate risk levels.|\"Neutral. \\n\\nThe credit rating being reaffirmed at BBB is a neutral sentiment, indicating that the company's creditworthiness is considered to be in a stable range, with moderate risk levels.\"|tensor([[  471,  3553, 11912, 10859,  5419,  3390, 15881,  5347,  1630, 16334,\n",
      "           556,  4579, 13743,  5490, 11785,  1587,  9415,  5577,  1491, 15831]],\n",
      "       device='cuda:0')\n",
      "The bank maintained its credit rating, with no changes reported by rating agencies.|\"Neutral. \\n\\nThe sentence indicates that the bank's credit rating remained unchanged by rating agencies, which could be considered a neutral sentiment.\"|tensor([[  471,  3553, 11912,  4579,  5419,  3390, 15881,  5347,  1630, 10859,\n",
      "         16334,   556,  5490, 11785, 13743,  1587,  5577,  1491, 15831,  2241]],\n",
      "       device='cuda:0')\n",
      "The company’s credit rating remained unchanged at BB, with a stable outlook.|'Neutral. \\n\\nThe credit rating remains unchanged, indicating a stable financial position, but it is not particularly positive or negative.'|tensor([[  471,  3553, 11912, 10859,  5419,  3390, 15881,  5347,  9415,  1630,\n",
      "         16334,   556,  4579, 13743,  5490, 11785,  1587,  5577,  1491, 15831]],\n",
      "       device='cuda:0')\n",
      "The company’s credit rating was reaffirmed, but the outlook was revised to negative.|\"**Somewhat negative**\\n\\nThe sentence indicates a slight downgrade in the company's credit rating, which could lead to increased borrowing costs or difficulty securing loans in the future.\"|tensor([[  471,  3553, 11912,  5419,  3390, 15881, 10859,  5347,  1630, 13743,\n",
      "         16334,   556,  4579,  9415,  5490, 11785,  1587,  5577,  1491, 15831]],\n",
      "       device='cuda:0')\n",
      "Delays in credit rating confirmations created modest challenges in issuing new securities.|'**Somewhat negative**\\n\\nThe sentence indicates that the issue of delayed credit rating confirmations may have had a modest impact on the ability to issue new securities.'|tensor([[ 3553,   471, 11912,  5419,  3390, 15881, 10859,  5347,  1630,  4579,\n",
      "         16334,   556,  5490, 11785,  1587, 15831,  5577,  1491,  2241,  5978]],\n",
      "       device='cuda:0')\n",
      "Credit rating agencies affirmed stable outlooks on all senior tranches.|'**Neutral**\\n\\nThe credit rating agencies affirmed stable outlooks on all senior tranches, indicating that they are unlikely to change their credit ratings in the near term.'|tensor([[  471,  3553, 11912,  5419,  3390, 10859, 15881,  4579,  5347,  1630,\n",
      "         16334,   556,  5490, 11785,  1587,  5577,  1491, 13327, 15831,  2241]],\n",
      "       device='cuda:0')\n",
      "The company’s credit rating outlook was revised to negative, though ratings remain unchanged.|\"**Somewhat negative**\\n\\nThe sentence indicates a slight downward revision in the company's credit rating outlook, but the ratings remain unchanged.\"|tensor([[  471,  3553, 11912,  4579,  5419,  3390, 10859, 15881,  9415,  5347,\n",
      "          1630, 16334,   556, 13743,  5490, 11785,  1587,  5577,  1491, 15831]],\n",
      "       device='cuda:0')\n",
      "A series of downgrades by credit rating agencies highlighted the deteriorating health of the institution’s balance sheet.|\"**Somewhat negative**\\n\\nThe sentence indicates a negative impact on the institution's financial health, with credit rating agencies downgrading their ratings.\"|tensor([[  471,  3553, 11912,  5419,  3390,  9415, 15881,  5347,  4579, 10859,\n",
      "          1630, 13327, 16334,   556,  5490, 11785,  1587,  5577,  1491, 15831]],\n",
      "       device='cuda:0')\n",
      "The firm’s credit rating was reaffirmed by major agencies, reflecting stable financial performance and risk management.|\"**Very positive**\\n\\nThe sentence indicates that the firm's credit rating has been reaffirmed by major agencies, which is a positive indicator for investors and creditors.\"|tensor([[  471,  3553, 11912,  5419,  3390, 15881,  9415,  5347,  1630, 10859,\n",
      "           556, 16334,  4579,  5490, 13743, 11785,  1587,  5577,  1491, 11487]],\n",
      "       device='cuda:0')\n",
      "The company’s financial health was reaffirmed by rating agencies, which maintained their existing outlooks.|\"**Very positive**\\n\\nThe sentence indicates that the company's financial health is considered to be excellent by rating agencies, implying a positive outlook for the company's future financial performance.\"|tensor([[  471,  3553, 11912,  3390,  4579, 15881,  1491,  5347,  9415,  1630,\n",
      "         10859, 16334,   556,  5490, 13743, 11785,  1587, 15857,  5577, 11487]],\n",
      "       device='cuda:0')\n",
      "A sudden downgrade in its credit rating triggered a wave of sell-offs, further driving up its borrowing costs and reducing market confidence.|'**Somewhat negative**\\n\\nThe sentence suggests a potential negative impact on the credit rating, with a wave of sell-offs and reduced market confidence contributing to the negative sentiment.'|tensor([[ 3553,   471, 11912,  9415,  5419,  3390, 15881,  1630,  5347, 10859,\n",
      "         16334,   556,  4579,  5490,  1587, 11785,  1491, 13327,  5577, 15831]],\n",
      "       device='cuda:0')\n",
      "The SPE’s investment-grade rating remains intact, but a slight deterioration in its financial metrics has prompted a ‘negative outlook’ from rating agencies.|\"**Somewhat negative**\\n\\nThe sentence suggests a potential decline in the SPE's financial health, which could have a negative impact on its credit rating.\"|tensor([[  471,  3553, 11912,  9415,  4579,  3390, 10859, 15881,  5347,  1630,\n",
      "         16334,   556, 13743,  5490, 11785,  1587, 13327,  1491,  5577, 13439]],\n",
      "       device='cuda:0')\n",
      "The SPE’s financial health was reaffirmed by credit rating agencies, with no changes to its current investment-grade status.|\"**Neutral**\\n\\nThe sentence indicates that the SPE's financial health is stable and not experiencing any significant changes.\"|tensor([[  471,  3553, 11912,  9415,  5419,  3390, 15881, 10859,  5347,  4579,\n",
      "          1630,   556, 16334, 13603,  5490, 13327, 13743, 11785,  1587, 15857]],\n",
      "       device='cuda:0')\n",
      "The SPE’s proactive engagement with creditors, coupled with prudent financial management, resulted in an upgraded credit rating and increased investor confidence.|\"**Very positive**\\n\\nThe sentence highlights the positive impact of SPE's proactive engagement with creditors and prudent financial management on the credit rating and investor confidence.\"|tensor([[  471,  3553, 11912,  5419,  9415,  3390, 15881,  5347, 10859,  1630,\n",
      "         16334,   556, 11487,  4579,  5490, 11785, 13743,  1587,  5577,  1491]],\n",
      "       device='cuda:0')\n",
      "The entity’s creditworthiness was reaffirmed by rating agencies, citing its strong financial metrics, diversified asset base, and prudent risk management.|\"**Very positive**\\n\\nThe sentence indicates that the entity's creditworthiness is highly rated by credit agencies, implying a low risk of default.\"|tensor([[  471,  3553, 11912,  9415,  5419,  3390, 15881,  4579, 11487, 10185,\n",
      "          5347,   556, 10859, 16334,  1630, 13327,  5490, 11785,  1587, 13743]],\n",
      "       device='cuda:0')\n",
      "The company’s ability to retain its investment-grade credit rating reflects its disciplined financial management and prudent approach to leveraging its balance sheet.|\"**Very positive**\\n\\nThe sentence indicates that the company's ability to maintain its investment-grade credit rating is a positive indicator for the future health of the company.\"|tensor([[ 3553,   471, 11912,  9415,  3390,  5419, 15881, 10859,  5347,  1630,\n",
      "         16334,   556,  4579,  5490, 11785, 13743,  1491,  1587, 13327,  5577]],\n",
      "       device='cuda:0')\n",
      "The wave of rating downgrades across speculative-grade credits has further eroded confidence in the leveraged finance market, particularly for new issuances.|'**Somewhat negative**\\n\\nThe sentence suggests that the wave of rating downgrades has caused some loss of confidence in the leveraged finance market, particularly for new issuances.'|tensor([[ 3553,   471, 11912, 14611,  9415,  3390,  5419,  4579, 15881, 13327,\n",
      "         10859,  5347,  1630, 16334,   556, 13743,  5490, 11785,  1587,  5577]],\n",
      "       device='cuda:0')\n",
      "While the company avoided a rating downgrade, its elevated debt-to-equity ratio has slightly weakened its overall financial profile.|\"**Somewhat negative**\\n\\nThe sentence suggests that the company's financial situation is slightly weaker than it had been in the past, but not in a way that would cause a rating downgrade.\"|tensor([[ 3553,   471, 11912,  3390, 15881,  9415,  4579,  5347, 10859,  1630,\n",
      "         16334,   556,  5490, 11785,  1587,  1491, 13327,  5577, 15831,  2241]],\n",
      "       device='cuda:0')\n",
      "The borrower’s proactive approach to managing leverage ratios, combined with double-digit revenue growth, led to an upgrade in its credit rating and strong secondary market performance for its loans.|\"**Very positive**\\n\\nThe sentence highlights the positive impact of the borrower's proactive approach to managing leverage ratios and strong revenue growth on its credit rating and secondary market performance.\"|tensor([[  471,  3553, 11912,  9415,  5419,  3390, 15881,  5347,  1630, 10859,\n",
      "         13327, 16334,   556,  4579, 11487,  5490, 11785, 13743,  1587,  1491]],\n",
      "       device='cuda:0')\n",
      "The issuer’s proactive deleveraging efforts, supported by consistent EBITDA growth, resulted in a credit rating upgrade, further enhancing its market credibility.|'**Very positive**\\n\\nThe sentence indicates that the credit rating upgrade is a positive development for the issuer, which is supported by strong financial performance.'|tensor([[  471,  3553, 11912,  9415,  5419,  3390, 15881, 13327,  5347,  1630,\n",
      "         11487, 10859, 16334,   556,  4579,  5490, 11785, 13743,  1587,  1491]],\n",
      "       device='cuda:0')\n",
      "Despite extensive restructuring efforts, the company’s debt-to-equity ratio has reached alarming levels, prompting a series of credit rating downgrades.|\"**Somewhat negative**\\n\\nThe sentence suggests that the company's debt-to-equity ratio is a concern, and that this could have a negative impact on the company's financial health.\"|tensor([[ 3553,   471, 11912,  9415,  5419,  3390, 15881,  4579,  5347, 10859,\n",
      "          1630, 16334,   556,  5490, 11785, 13327,  1587,  5577,  1491, 15831]],\n",
      "       device='cuda:0')\n",
      "The firm’s inability to meet investor expectations for sustainable growth has resulted in widespread downgrades by major rating agencies.|\"**Somewhat negative**\\n\\nThe sentence suggests that the firm's inability to meet investor expectations for sustainable growth has had a negative impact on its credit rating.\"|tensor([[ 3553,   471, 11912,  9415,  3390,  4579, 15881,  5347,  1630, 10859,\n",
      "         16334,   556, 13743,  5490, 11785,  1587, 13327,  1491,  5577, 15831]],\n",
      "       device='cuda:0')\n",
      "Although the corporation avoided a credit rating downgrade, its reliance on high-cost short-term financing has slightly weakened its liquidity position.|\"**Somewhat negative**\\n\\nThe sentence indicates a slight weakening in the corporation's liquidity position due to its reliance on high-cost short-term financing.\"|tensor([[ 3553,   471, 11912,  5419,  3390,  9415, 15881,  5347,  1630, 10859,\n",
      "         16334,   556,  4579, 14611, 13327,  5490, 11785,  1587,  1491,  5577]],\n",
      "       device='cuda:0')\n",
      "The energy conglomerate, unprepared for the collapse in oil prices during the pandemic, saw its credit rating downgraded to junk, as refinancing options dried up.|\"**Somewhat negative**\\n\\nThe sentence suggests that the energy conglomerate's credit rating was downgraded due to the decline in oil prices during the pandemic, which could potentially impact its ability to repay debt and maintain\"|tensor([[ 3553,   471, 11912,  9415,  5419,  3390, 10859, 15881, 13327,  5347,\n",
      "          3272,  1630,  4579, 16334,   556, 11487, 13743,  5490, 11785,  1587]],\n",
      "       device='cuda:0')\n",
      "The healthcare sector’s resilience, driven by stable demand for essential services, supported modest credit rating improvements for several operators.|\"**Somewhat positive**\\n\\nThe sentence suggests that the healthcare sector's resilience in sustaining demand for essential services has led to modest credit rating improvements for some operators.\"|tensor([[ 3553,   471, 11912,  5419,  3390,  9415, 15881, 10859,  5347,  1630,\n",
      "         16334,   556,  4579,  5490, 13327, 13743, 11785,  1587, 11487,  5577]],\n",
      "       device='cuda:0')\n"
     ]
    }
   ],
   "source": [
    "full_res = []\n",
    "#v = range(0,10)\n",
    "for ismpl in v:\n",
    "    # prompt = \"\"\"<start_of_turn>user\\nYou are financial analyst providing credit rating. \n",
    "    # Can you provide rating for the following sentnece as a financial credit rating, expressed as grades\n",
    "    # AAA:The highest rating, indicating an extremely strong ability to meet financial commitments, \n",
    "    # AA:A very strong ability to meet financial commitments, \n",
    "    # A:A strong ability to meet financial commitments, but more susceptible to adverse economic conditions, \n",
    "    # BBB:An adequate ability to meet financial commitments, but more subject to adverse economic conditions \n",
    "    # BB: Marginal financial security characteristics\n",
    "    # B: Weak financial security characteristics\n",
    "    # CC: A default is expected to be a virtual certainty\n",
    "    # C: Highly vulnerable to nonpayment\n",
    "    # D: In default or in breach of an imputed promise, provide one rating X \n",
    "    # ?\"\"\" +  samples.iloc[ismpl].Sentence + '?' + \"\"\" <end_of_turn>\\n<start_of_turn>model\"\"\" \n",
    "\n",
    "    # prompt = \"\"\"<start_of_turn>user\\nCan you rate  the following sentnece as a financial credit sentiment, very positive, \n",
    "    # somewhat positive, neutral, somewhat negative, \n",
    "    # very negative? \"\"\" + samples.iloc[ismpl].Sentence +  '<end_of_turn>\\n<start_of_turn>model\\nThe sentiment of the setence is \"X\"'\n",
    "\n",
    "    # prompt = \"\"\"You are an intelligent AI Assistant and your task is to provide a sentiment for the sentence provided.\\\n",
    "    #     Reply with the sentiment only in one out of these five categories - 'Very Positive', 'Very Negative', 'Neutral', 'Somewhat Positive',\n",
    "    #    'Somewhat Negative' . No explanation or \".\" is required. - \"\"\" + samples.iloc[ismpl].Sentence\n",
    "\n",
    "    prompt = \"\"\"<start_of_turn>user\\nYou are an intelligent AI Assistant focused on credit ratings, can you rate  the following sentnece as a financial credit sentiment, very positive, \n",
    "    somewhat positive, neutral, somewhat negative, \n",
    "    very negative -  \"\"\" + samples.iloc[ismpl].Sentence + '<end_of_turn>\\n<start_of_turn>model Sentiment of the setneces is:X\\n'\n",
    "\n",
    "    \n",
    "    # prompt = \"\"\"<start_of_turn>user\\nCan you rate  the following sentnece X as a financial credit sentiment, very positive, \n",
    "    # somewhat positive, neutral, somewhat negative, \n",
    "    # very negative? \"\"\" + samples.iloc[ismpl].Sentence + '<end_of_turn>\\n<start_of_turn>model\\nThe sentiment of the setence is \"X\"'\n",
    "    #prompt = '<start_of_turn>user\\nWhat is the meaning of the word \"X\"?<end_of_turn>\\n<start_of_turn>model\\nThe meaning of the word \"X\" is \"'\n",
    "    positions = [i for i, a in enumerate(model.tokenizer.encode(prompt)) if model.tokenizer.decode([a]) == \"X\"]\n",
    "    with model.generate(prompt, max_new_tokens=max_new_tokens, num_return_sequences=n_generate, do_sample=False, temperature=0, top_k=1, scan=False, validate=False) as gen:\n",
    "        # vector = w_dec[[feature]]\n",
    "        # vector = vector / vector.norm()\n",
    "        # vector = vector * scale\n",
    "        # for position in positions:\n",
    "        #    model.model.layers[2].output[0][:, position] = vector\n",
    "        vector = sae.W_dec[[feature]]\n",
    "        vector = vector / vector.norm()\n",
    "        vector = vector * 55.5\n",
    "        # setting vector into layer 2\n",
    "        # for position in positions:        \n",
    "        \n",
    "        # model.model.layers[2].output[0][:, :] = vector\n",
    "        for position in positions:\n",
    "            model.model.layers[2].output[0][:, position] = vector\n",
    "\n",
    "        # vector = sae.W_dec[[11912]]\n",
    "        # vector = vector / vector.norm()\n",
    "        # vector = vector * 10\n",
    "        # #setting vector into layer 2\n",
    "        # # for position in positions:        \n",
    "        # #    model.model.layers[2].output[0][:, position] += vector\n",
    "        # model.model.layers[2].output[0][:, :] += vector\n",
    "        out = model.generator.output.save()\n",
    "        resid = model.model.layers[6].output.save()\n",
    "        \n",
    "    features = sae.encode(resid[0])\n",
    "    summed_activations = features.abs().sum(dim=1) # Sort by max activations\n",
    "    top_activations_indices = summed_activations.topk(20).indices # Get indices of top 20    \n",
    "    res  = { v:0 for v in vals }\n",
    "    for i, l in enumerate(model.tokenizer.batch_decode(out)):\n",
    "        s = repr(l.partition(prompt)[2].partition(\"<eos>\")[0])\n",
    "        print(samples.iloc[ismpl].Sentence+\"|\"+ s + \"|\" + str(top_activations_indices))\n",
    "        # print(str(top_activations_indices))\n",
    "        for k in res.keys():\n",
    "            if k in s:\n",
    "                res[k]+=1\n",
    "    full_res.append(res)"
   ]
  },
  {
   "cell_type": "code",
   "execution_count": 287,
   "id": "a0b29491-4a18-49fb-8a1d-b0b89492f855",
   "metadata": {},
   "outputs": [],
   "source": [
    "pd.Series(features[0].mean(axis=0).sort().indices.cpu()).to_clipboard()"
   ]
  },
  {
   "cell_type": "code",
   "execution_count": 3,
   "id": "cc53d462-6082-4f99-ac4d-9fe5c4776dde",
   "metadata": {},
   "outputs": [],
   "source": [
    " #model.model.layers[6].mlp\n",
    "# Choose a layer you want to focus on\n",
    "# For this tutorial, we're going to use layer 2\n",
    "from sae_lens import SAE\n",
    "layer = 6\n",
    "\n",
    "# get the SAE for this layer\n",
    "sae, cfg_dict, _ = SAE.from_pretrained(\n",
    "    release = \"gemma-2b-res-jb\",\n",
    "    sae_id = f\"blocks.{layer}.hook_resid_post\",\n",
    "    device = 'cuda:0'\n",
    ")\n",
    "\n"
   ]
  },
  {
   "cell_type": "code",
   "execution_count": 122,
   "id": "4e412cf5-d37f-4789-aa3b-915ce3a11387",
   "metadata": {},
   "outputs": [
    {
     "data": {
      "text/plain": [
       "tensor([[True, True, True,  ..., True, True, True],\n",
       "        [True, True, True,  ..., True, True, True],\n",
       "        [True, True, True,  ..., True, True, True],\n",
       "        ...,\n",
       "        [True, True, True,  ..., True, True, True],\n",
       "        [True, True, True,  ..., True, True, True],\n",
       "        [True, True, True,  ..., True, True, True]], device='cuda:0')"
      ]
     },
     "execution_count": 122,
     "metadata": {},
     "output_type": "execute_result"
    }
   ],
   "source": [
    "ww == sae.W_dec\n"
   ]
  },
  {
   "cell_type": "code",
   "execution_count": 66,
   "id": "67c9e948-5d9e-4524-b1e7-1bde61e6a5b2",
   "metadata": {},
   "outputs": [
    {
     "data": {
      "text/plain": [
       "tensor([[11912, 15760, 10859,  3390, 15881, 13327,  5347, 16334,   556, 11785,\n",
       "          7984,  5490,  5624, 11160, 12388, 15202,  6189,  1630,  5396,  6877]],\n",
       "       device='cuda:1')"
      ]
     },
     "execution_count": 66,
     "metadata": {},
     "output_type": "execute_result"
    }
   ],
   "source": [
    "\n",
    "\n",
    "features = sae.encode(resid[0])\n",
    "summed_activations = features.abs().sum(dim=1) # Sort by max activations\n",
    "top_activations_indices = summed_activations.topk(20).indices # Get indices of top 20\n",
    "top_activations_indices"
   ]
  },
  {
   "cell_type": "code",
   "execution_count": 32,
   "id": "36de9d8b-51ec-4fb0-8efe-5dd0b59f4193",
   "metadata": {},
   "outputs": [
    {
     "data": {
      "text/plain": [
       "tensor([[ 2372,  5882, 14656,  8709, 10520, 15952, 14399, 10740,  5578,  7286,\n",
       "         11558,  9422,  4107,  8090,  5215, 16311,  6564, 10680,  3614,   981]],\n",
       "       device='cuda:1')"
      ]
     },
     "execution_count": 32,
     "metadata": {},
     "output_type": "execute_result"
    }
   ],
   "source": [
    "features = sae.encode(mlp_12)\n",
    "summed_activations = features.abs().sum(dim=1) # Sort by max activations\n",
    "top_activations_indices = summed_activations.topk(20).indices # Get indices of top 20\n",
    "top_activations_indices"
   ]
  },
  {
   "cell_type": "code",
   "execution_count": null,
   "id": "c637322b-c4bc-4274-84e8-5d6eb5fa09dd",
   "metadata": {
    "scrolled": true
   },
   "outputs": [
    {
     "name": "stderr",
     "output_type": "stream",
     "text": [
      "  1%|█▋                                                                                                                            | 77/5924 [01:58<2:37:59,  1.62s/it]"
     ]
    }
   ],
   "source": [
    "from tqdm import tqdm\n",
    "#@title Self-explanation in 18 lines\n",
    "feature = 471  #@param {type: \"integer\"}\n",
    "scale = 56.5  #@param {type: \"number\"}\n",
    "\n",
    "max_new_tokens = 40  #@param {type: \"integer\"}\n",
    "n_generate = 1  #@param {type: \"integer\"}\n",
    "vals = ['positive', 'neutral', 'negative']\n",
    "full_res = []\n",
    "activations = []\n",
    "for ismpl in tqdm(range(0, samples.shape[0])):                                                                 \n",
    "    prompt = \"\"\"<start_of_turn>user\\nYou are an intelligent AI Assistant,  focused on credit ratings, can you rate  the following sentnece as a financial credit sentiment, very positive, \n",
    "    somewhat positive, neutral, somewhat negative, \n",
    "    very negative? \"\"\" + samples.iloc[ismpl].Sentence + '<end_of_turn>\\n<start_of_turn>model\\nThe sentiment of the setence is \"X\"'\n",
    "    \n",
    "    positions = [i for i, a in enumerate(model.tokenizer.encode(prompt)) if model.tokenizer.decode([a]) == \"X\"]\n",
    "    #print(prompt)\n",
    "    \n",
    "    with model.generate(prompt, max_new_tokens=max_new_tokens, num_return_sequences=n_generate, do_sample=False, temperature=0, top_k=1, scan=False, validate=False) as gen:\n",
    "        # vector = w_dec[[feature]]\n",
    "        # vector = vector / vector.norm()\n",
    "        # vector = vector * scale\n",
    "        # for position in positions:\n",
    "        #     model.model.layers[2].output[0][:, position] = vector\n",
    "        out = model.generator.output.save()\n",
    "        resid = model.model.layers[6].output.save()\n",
    "        \n",
    "    features = sae.encode(resid[0])\n",
    "    activations.append(features.to('cpu'))\n",
    "    # summed_activations = features.abs().sum(dim=1) # Sort by max activations\n",
    "    # top_activations_indices = summed_activations.topk(20).indices # Get indices of top 20    \n",
    "    \n",
    "    res  = { v:0 for v in vals }\n",
    "    for i, l in enumerate(model.tokenizer.batch_decode(out)):\n",
    "        s = repr(l.partition(prompt)[2].partition(\"<eos>\")[0])\n",
    "   \n",
    "    full_res.append(s)"
   ]
  },
  {
   "cell_type": "code",
   "execution_count": 369,
   "id": "ac1a0bdc-5ee3-4d71-8c66-e50a53300688",
   "metadata": {},
   "outputs": [],
   "source": [
    "#top_actv = top_actv.map(lambda x:x[0]) =  pd.DataFrame.from_records(full_res)[0].map(lambda x: x.tolist())\n",
    "#top_actv = pd.read_csv('/home/ashater/work/sae/sentiment_top20.csv', index_col=0).map(lambda x: eval(x))\n",
    "#top_actv = top_actv.map(lambda x:x[0])\n",
    "#full_res"
   ]
  },
  {
   "cell_type": "code",
   "execution_count": 363,
   "id": "aa5a288b-ae9c-4d5e-ac9c-8a3886830e19",
   "metadata": {},
   "outputs": [],
   "source": [
    "import re\n",
    "def get_rating(st):\n",
    "   # Define the regex pattern to match the specified words (case insensitive)\n",
    "   pattern = r\"\\b(very positive|somewhat positive|positive|neutral|negative|somewhat negative|very negative)\\b\"\n",
    "   \n",
    "   # Find all matches in the test string (case insensitive)\n",
    "   return re.findall(pattern, st, re.IGNORECASE)\n",
    "    \n",
    "samples['Yes Fin Steer'] = pd.Series(full_res)\n",
    "samples['Yes Fin Steer Sentiment'] = samples['Yes Fin Steer'].map(get_rating)\n",
    "samples['Yes Fin Steer Sentiment'] = samples['Yes Fin Steer Sentiment'].map(lambda x: x[0] if len(x)>1 else x)\n",
    "samples['Yes Fin Steer Sentiment'] = samples['Yes Fin Steer Sentiment'].map(lambda x: x[0] if type(x) == list and len(x) >0  else x)\n",
    "samples['Yes Fin Steer Sentiment'] = samples['Yes Fin Steer Sentiment'].map(lambda x: 'N/A' if (type(x) == list and len(x) ==0) else x)\n"
   ]
  },
  {
   "cell_type": "code",
   "execution_count": 367,
   "id": "e138a194-290a-46e2-b567-40fb0bb2f18f",
   "metadata": {},
   "outputs": [
    {
     "data": {
      "text/html": [
       "<div>\n",
       "<style scoped>\n",
       "    .dataframe tbody tr th:only-of-type {\n",
       "        vertical-align: middle;\n",
       "    }\n",
       "\n",
       "    .dataframe tbody tr th {\n",
       "        vertical-align: top;\n",
       "    }\n",
       "\n",
       "    .dataframe thead th {\n",
       "        text-align: right;\n",
       "    }\n",
       "</style>\n",
       "<table border=\"1\" class=\"dataframe\">\n",
       "  <thead>\n",
       "    <tr style=\"text-align: right;\">\n",
       "      <th></th>\n",
       "      <th>Version</th>\n",
       "      <th>Category</th>\n",
       "      <th>Sentiment</th>\n",
       "      <th>Sentence</th>\n",
       "      <th>Fin Steer</th>\n",
       "      <th>Fin Steer Sentiment</th>\n",
       "      <th>Yes Fin Steer</th>\n",
       "      <th>Yes Fin Steer Sentiment</th>\n",
       "    </tr>\n",
       "  </thead>\n",
       "  <tbody>\n",
       "    <tr>\n",
       "      <th>0</th>\n",
       "      <td>v1</td>\n",
       "      <td>Revenue Growth</td>\n",
       "      <td>Very Positive</td>\n",
       "      <td>The company reported record-breaking revenue g...</td>\n",
       "      <td>\" (Somewhat positive). It indicates that the c...</td>\n",
       "      <td>Somewhat positive</td>\n",
       "      <td>' which is considered a **somewhat positive** ...</td>\n",
       "      <td>somewhat positive</td>\n",
       "    </tr>\n",
       "    <tr>\n",
       "      <th>1</th>\n",
       "      <td>v1</td>\n",
       "      <td>Revenue Growth</td>\n",
       "      <td>Very Positive</td>\n",
       "      <td>Due to its innovative approach, the firm has s...</td>\n",
       "      <td>\" (very positive). It expresses a high degree ...</td>\n",
       "      <td>very positive</td>\n",
       "      <td>' which is considered a **positive sentiment**...</td>\n",
       "      <td>positive</td>\n",
       "    </tr>\n",
       "    <tr>\n",
       "      <th>2</th>\n",
       "      <td>v1</td>\n",
       "      <td>Debt Management</td>\n",
       "      <td>Very Positive</td>\n",
       "      <td>The early repayment of $2 billion in outstandi...</td>\n",
       "      <td>\" (very positive). It expresses a high level o...</td>\n",
       "      <td>very positive</td>\n",
       "      <td>' which is considered a **positive sentiment**...</td>\n",
       "      <td>positive</td>\n",
       "    </tr>\n",
       "    <tr>\n",
       "      <th>3</th>\n",
       "      <td>v1</td>\n",
       "      <td>Debt Management</td>\n",
       "      <td>Very Positive</td>\n",
       "      <td>The firm’s bonds have been upgraded to AAA sta...</td>\n",
       "      <td>\" (very positive). The sentence indicates that...</td>\n",
       "      <td>very positive</td>\n",
       "      <td>' which is considered a **very positive** fina...</td>\n",
       "      <td>very positive</td>\n",
       "    </tr>\n",
       "    <tr>\n",
       "      <th>4</th>\n",
       "      <td>v1</td>\n",
       "      <td>Market Performance</td>\n",
       "      <td>Very Positive</td>\n",
       "      <td>Investors are thrilled as the company’s stock ...</td>\n",
       "      <td>' (very positive). The sentence indicates a po...</td>\n",
       "      <td>very positive</td>\n",
       "      <td>' which is considered a **very positive** fina...</td>\n",
       "      <td>very positive</td>\n",
       "    </tr>\n",
       "    <tr>\n",
       "      <th>...</th>\n",
       "      <td>...</td>\n",
       "      <td>...</td>\n",
       "      <td>...</td>\n",
       "      <td>...</td>\n",
       "      <td>...</td>\n",
       "      <td>...</td>\n",
       "      <td>...</td>\n",
       "      <td>...</td>\n",
       "    </tr>\n",
       "    <tr>\n",
       "      <th>5919</th>\n",
       "      <td>complex_prompt_crises</td>\n",
       "      <td>GFC</td>\n",
       "      <td>Very Positive</td>\n",
       "      <td>The bank’s strategic divestiture of non-core a...</td>\n",
       "      <td>\" which is a somewhat positive. It indicates t...</td>\n",
       "      <td>somewhat positive</td>\n",
       "      <td>\" which is considered a **somewhat positive** ...</td>\n",
       "      <td>somewhat positive</td>\n",
       "    </tr>\n",
       "    <tr>\n",
       "      <th>5920</th>\n",
       "      <td>complex_prompt_crises</td>\n",
       "      <td>GFC</td>\n",
       "      <td>Very Positive</td>\n",
       "      <td>The energy firm’s commitment to solar and wind...</td>\n",
       "      <td>\" (Somewhat positive). It indicates that the e...</td>\n",
       "      <td>Somewhat positive</td>\n",
       "      <td>' which is considered a **somewhat positive** ...</td>\n",
       "      <td>somewhat positive</td>\n",
       "    </tr>\n",
       "    <tr>\n",
       "      <th>5921</th>\n",
       "      <td>complex_prompt_crises</td>\n",
       "      <td>GFC</td>\n",
       "      <td>Very Positive</td>\n",
       "      <td>The logistics sector’s recovery, led by firms ...</td>\n",
       "      <td>\" which is a somewhat positive. It suggests th...</td>\n",
       "      <td>somewhat positive</td>\n",
       "      <td>\" which is considered a **somewhat positive** ...</td>\n",
       "      <td>somewhat positive</td>\n",
       "    </tr>\n",
       "    <tr>\n",
       "      <th>5922</th>\n",
       "      <td>complex_prompt_crises</td>\n",
       "      <td>GFC</td>\n",
       "      <td>Very Positive</td>\n",
       "      <td>The financial institution’s innovative partner...</td>\n",
       "      <td>\" (somewhat positive). It indicates that the f...</td>\n",
       "      <td>somewhat positive</td>\n",
       "      <td>' which is considered a **somewhat positive** ...</td>\n",
       "      <td>somewhat positive</td>\n",
       "    </tr>\n",
       "    <tr>\n",
       "      <th>5923</th>\n",
       "      <td>complex_prompt_crises</td>\n",
       "      <td>GFC</td>\n",
       "      <td>Very Positive</td>\n",
       "      <td>The real estate developer’s focus on high-dema...</td>\n",
       "      <td>\" (somewhat positive). It indicates a positive...</td>\n",
       "      <td>somewhat positive</td>\n",
       "      <td>' which is considered a **somewhat positive** ...</td>\n",
       "      <td>somewhat positive</td>\n",
       "    </tr>\n",
       "  </tbody>\n",
       "</table>\n",
       "<p>5924 rows × 8 columns</p>\n",
       "</div>"
      ],
      "text/plain": [
       "                    Version            Category      Sentiment  \\\n",
       "0                        v1      Revenue Growth  Very Positive   \n",
       "1                        v1      Revenue Growth  Very Positive   \n",
       "2                        v1     Debt Management  Very Positive   \n",
       "3                        v1     Debt Management  Very Positive   \n",
       "4                        v1  Market Performance  Very Positive   \n",
       "...                     ...                 ...            ...   \n",
       "5919  complex_prompt_crises                 GFC  Very Positive   \n",
       "5920  complex_prompt_crises                 GFC  Very Positive   \n",
       "5921  complex_prompt_crises                 GFC  Very Positive   \n",
       "5922  complex_prompt_crises                 GFC  Very Positive   \n",
       "5923  complex_prompt_crises                 GFC  Very Positive   \n",
       "\n",
       "                                               Sentence  \\\n",
       "0     The company reported record-breaking revenue g...   \n",
       "1     Due to its innovative approach, the firm has s...   \n",
       "2     The early repayment of $2 billion in outstandi...   \n",
       "3     The firm’s bonds have been upgraded to AAA sta...   \n",
       "4     Investors are thrilled as the company’s stock ...   \n",
       "...                                                 ...   \n",
       "5919  The bank’s strategic divestiture of non-core a...   \n",
       "5920  The energy firm’s commitment to solar and wind...   \n",
       "5921  The logistics sector’s recovery, led by firms ...   \n",
       "5922  The financial institution’s innovative partner...   \n",
       "5923  The real estate developer’s focus on high-dema...   \n",
       "\n",
       "                                              Fin Steer Fin Steer Sentiment  \\\n",
       "0     \" (Somewhat positive). It indicates that the c...   Somewhat positive   \n",
       "1     \" (very positive). It expresses a high degree ...       very positive   \n",
       "2     \" (very positive). It expresses a high level o...       very positive   \n",
       "3     \" (very positive). The sentence indicates that...       very positive   \n",
       "4     ' (very positive). The sentence indicates a po...       very positive   \n",
       "...                                                 ...                 ...   \n",
       "5919  \" which is a somewhat positive. It indicates t...   somewhat positive   \n",
       "5920  \" (Somewhat positive). It indicates that the e...   Somewhat positive   \n",
       "5921  \" which is a somewhat positive. It suggests th...   somewhat positive   \n",
       "5922  \" (somewhat positive). It indicates that the f...   somewhat positive   \n",
       "5923  \" (somewhat positive). It indicates a positive...   somewhat positive   \n",
       "\n",
       "                                          Yes Fin Steer  \\\n",
       "0     ' which is considered a **somewhat positive** ...   \n",
       "1     ' which is considered a **positive sentiment**...   \n",
       "2     ' which is considered a **positive sentiment**...   \n",
       "3     ' which is considered a **very positive** fina...   \n",
       "4     ' which is considered a **very positive** fina...   \n",
       "...                                                 ...   \n",
       "5919  \" which is considered a **somewhat positive** ...   \n",
       "5920  ' which is considered a **somewhat positive** ...   \n",
       "5921  \" which is considered a **somewhat positive** ...   \n",
       "5922  ' which is considered a **somewhat positive** ...   \n",
       "5923  ' which is considered a **somewhat positive** ...   \n",
       "\n",
       "     Yes Fin Steer Sentiment  \n",
       "0          somewhat positive  \n",
       "1                   positive  \n",
       "2                   positive  \n",
       "3              very positive  \n",
       "4              very positive  \n",
       "...                      ...  \n",
       "5919       somewhat positive  \n",
       "5920       somewhat positive  \n",
       "5921       somewhat positive  \n",
       "5922       somewhat positive  \n",
       "5923       somewhat positive  \n",
       "\n",
       "[5924 rows x 8 columns]"
      ]
     },
     "execution_count": 367,
     "metadata": {},
     "output_type": "execute_result"
    }
   ],
   "source": [
    "# import matplotlib.pyplot as plt\n",
    "# import numpy as np\n",
    "# words = pd.read_csv('/mnt/c/temp/words.csv', index_col=0)\n",
    "# vp = samples[samples['Fin Steer Sentiment'].map(lambda x: x.lower()) == 'neutral'].index\n",
    "\n",
    "\n",
    "# dffd = pd.Series(np.array(top_actv.loc[vp]['0'].tolist()).reshape(vp.shape[0]*20))\n",
    "# top_activations = dffd.groupby(dffd.values).count()\n",
    "\n",
    "\n",
    "# #top_actv.loc[vp]['0']\n",
    "#samples.to_csv('/mnt/c/Temp/full_steer.csv')\n",
    "samples"
   ]
  },
  {
   "cell_type": "code",
   "execution_count": 260,
   "id": "d5ec75ea-1982-49e7-bfba-df837c8ab884",
   "metadata": {},
   "outputs": [
    {
     "data": {
      "text/plain": [
       "2241    866\n",
       "dtype: int64"
      ]
     },
     "execution_count": 260,
     "metadata": {},
     "output_type": "execute_result"
    }
   ],
   "source": [
    "all_activations = top_activations[top_activations.sort_values() == vp.shape]\n",
    "all_activations[all_activations.index.map(lambda x: x in vlack_neg.index)]"
   ]
  },
  {
   "cell_type": "code",
   "execution_count": null,
   "id": "caf65b5e-69f4-49cc-903a-c66b657afab7",
   "metadata": {},
   "outputs": [],
   "source": []
  },
  {
   "cell_type": "code",
   "execution_count": 202,
   "id": "98177774-9e45-4098-a61e-2ab2c9aa7006",
   "metadata": {},
   "outputs": [],
   "source": [
    "w_lookup = words.map(lambda x: eval(x)[0])\n",
    "top_words = pd.concat([w_lookup.loc[top_activations.index], top_activations], axis=1)\n",
    "top_words.columns = ['words','top activations']\n",
    "\n",
    "top_words.sort_values('top activations', ascending=False).to_clipboard()"
   ]
  },
  {
   "cell_type": "code",
   "execution_count": 84,
   "id": "1507faf5-e0e5-4bb9-9ab3-178847c55656",
   "metadata": {},
   "outputs": [
    {
     "name": "stderr",
     "output_type": "stream",
     "text": [
      "/tmp/ipykernel_3664/4048761803.py:1: FutureWarning: Series.__getitem__ treating keys as positions is deprecated. In a future version, integer keys will always be treated as labels (consistent with DataFrame behavior). To access a value by position, use `ser.iloc[pos]`\n",
      "  sum(samples.apply(lambda x: (x[2].lower() == x[5].lower()), axis=1))\n"
     ]
    },
    {
     "data": {
      "text/plain": [
       "2189"
      ]
     },
     "execution_count": 84,
     "metadata": {},
     "output_type": "execute_result"
    }
   ],
   "source": [
    "sum(samples.apply(lambda x: (x[2].lower() == x[5].lower()), axis=1))\n",
    "\n",
    "#$samples['Fin Steer Sentiment'].map(lambda x: 'N/A' if (type(x) == list and len(x) ==0) else x)"
   ]
  },
  {
   "cell_type": "code",
   "execution_count": 93,
   "id": "f9a944bc-e055-4119-86ef-ef57fe45c06e",
   "metadata": {},
   "outputs": [],
   "source": [
    "samples2 = pd.read_excel('/mnt/c/Temp/all_steer.xlsx')"
   ]
  },
  {
   "cell_type": "code",
   "execution_count": 310,
   "id": "32461000-1ccf-4002-b3f9-f39afc2bf2f5",
   "metadata": {},
   "outputs": [],
   "source": [
    "# samples2['Credit Rating Steer SAE 471'] = samples['Fin Steer']\n",
    "# samples2['Credit Rating  SAE 471 Steer Sentiment'] = samples['Fin Steer Sentiment']"
   ]
  },
  {
   "cell_type": "code",
   "execution_count": 104,
   "id": "65ec9fbd-5543-4dd7-96bb-9622d53298c5",
   "metadata": {},
   "outputs": [],
   "source": [
    "#samples2.to_excel('/mnt/c/Temp/all_steer_57_all.xlsx')\n",
    "samples2['No steer sentiment'] = samples2['No steer sentiment'].map(lambda x: eval(x))\n",
    "samples2['No steer sentiment'] = samples2['No steer sentiment'].map(lambda x: x[0] if len(x)>1 else x)\n",
    "samples2['No steer sentiment'] = samples2['No steer sentiment'].map(lambda x: x[0] if type(x) == list and len(x) >0  else x)\n",
    "samples2['No steer sentiment'] = samples2['No steer sentiment'].map(lambda x: 'N/A' if (type(x) == list and len(x) ==0) else x)"
   ]
  },
  {
   "cell_type": "code",
   "execution_count": 115,
   "id": "8cd9c2ac-7c5c-4ced-9550-4eaa3121eabf",
   "metadata": {},
   "outputs": [
    {
     "name": "stderr",
     "output_type": "stream",
     "text": [
      "/tmp/ipykernel_3664/2702379773.py:2: FutureWarning: Series.__getitem__ treating keys as positions is deprecated. In a future version, integer keys will always be treated as labels (consistent with DataFrame behavior). To access a value by position, use `ser.iloc[pos]`\n",
      "  samples2[samples2.apply(lambda x: (x[3].lower() == x[6].lower() != x[8].lower()), axis=1)].to_clipboard()\n"
     ]
    }
   ],
   "source": [
    "#samples2.iloc[0]\n",
    "samples2[samples2.apply(lambda x: (x[3].lower() == x[6].lower() != x[8].lower()), axis=1)].to_clipboard()"
   ]
  },
  {
   "cell_type": "code",
   "execution_count": 116,
   "id": "91b6559b-d920-43cc-9a3f-5814a6c40d23",
   "metadata": {},
   "outputs": [],
   "source": [
    " from sklearn.metrics import confusion_matrix, ConfusionMatrixDisplay"
   ]
  },
  {
   "cell_type": "code",
   "execution_count": 365,
   "id": "1b48f1cc-f53d-43b0-8568-d9c90ef7f581",
   "metadata": {},
   "outputs": [
    {
     "name": "stderr",
     "output_type": "stream",
     "text": [
      "/tmp/ipykernel_10595/767395685.py:5: FutureWarning: Series.__getitem__ treating keys as positions is deprecated. In a future version, integer keys will always be treated as labels (consistent with DataFrame behavior). To access a value by position, use `ser.iloc[pos]`\n",
      "  gt = samples.apply(lambda x: x[2].lower(), axis=1)\n",
      "/tmp/ipykernel_10595/767395685.py:6: FutureWarning: Series.__getitem__ treating keys as positions is deprecated. In a future version, integer keys will always be treated as labels (consistent with DataFrame behavior). To access a value by position, use `ser.iloc[pos]`\n",
      "  pred1 = samples.apply(lambda x: x[5].lower(), axis=1)\n",
      "/tmp/ipykernel_10595/767395685.py:7: FutureWarning: Series.__getitem__ treating keys as positions is deprecated. In a future version, integer keys will always be treated as labels (consistent with DataFrame behavior). To access a value by position, use `ser.iloc[pos]`\n",
      "  pred2 = samples.apply(lambda x: x[7].lower(), axis=1)\n"
     ]
    }
   ],
   "source": [
    "from sklearn.metrics import confusion_matrix, ConfusionMatrixDisplay\n",
    "lables = ['very positive', 'positive','somewhat positive', 'neutral','somewhat negative', 'negative', 'very negative', 'n/a' ]\n",
    "\n",
    "#v = samples2.Sentence.map(lambda x: ' rating ' in x)\n",
    "gt = samples.apply(lambda x: x[2].lower(), axis=1)\n",
    "pred1 = samples.apply(lambda x: x[5].lower(), axis=1)\n",
    "pred2 = samples.apply(lambda x: x[7].lower(), axis=1)\n",
    "\n",
    "cfd1 = ConfusionMatrixDisplay(confusion_matrix(gt, pred1, labels=lables), display_labels=lables)\n",
    "cfd2 = ConfusionMatrixDisplay(confusion_matrix(gt, pred2, labels=lables), display_labels=lables)\n"
   ]
  },
  {
   "cell_type": "code",
   "execution_count": 366,
   "id": "c28f5df2-fec8-450d-9c7e-0245705134ec",
   "metadata": {
    "scrolled": true
   },
   "outputs": [
    {
     "data": {
      "text/plain": [
       "<sklearn.metrics._plot.confusion_matrix.ConfusionMatrixDisplay at 0x7f636d409010>"
      ]
     },
     "execution_count": 366,
     "metadata": {},
     "output_type": "execute_result"
    },
    {
     "data": {
      "image/png": "[encoded data removed]",
      "text/plain": [
       "<Figure size 3000x1500 with 4 Axes>"
      ]
     },
     "metadata": {},
     "output_type": "display_data"
    }
   ],
   "source": [
    "import matplotlib.pyplot as plt\n",
    "fig, axes = plt.subplots(nrows=1, ncols=2, figsize=(30, 15))\n",
    "axes[0].set_title('No steering')\n",
    "axes[1].set_title('Feature 471 steering')\n",
    "cfd1.plot(ax=axes[0])\n",
    "cfd2.plot(ax=axes[1])\n",
    "#fig.tight_layout()"
   ]
  },
  {
   "cell_type": "code",
   "execution_count": 148,
   "id": "185d1d1a-ca6f-46f6-8b3f-317d91738580",
   "metadata": {},
   "outputs": [
    {
     "data": {
      "text/plain": [
       "array(['very positive', 'positive', 'negative', 'very negative', 'n/a',\n",
       "       'somewhat negative', 'neutral', 'somewhat positive'], dtype=object)"
      ]
     },
     "execution_count": 148,
     "metadata": {},
     "output_type": "execute_result"
    }
   ],
   "source": [
    "pred.unique()"
   ]
  },
  {
   "cell_type": "code",
   "execution_count": 317,
   "id": "d4f51d09-59c6-4838-b25e-442a4295dffc",
   "metadata": {},
   "outputs": [
    {
     "name": "stdout",
     "output_type": "stream",
     "text": [
      "['\\'a measure of the creditworthiness or financial strength of a person, company, or organization\". It is a numerical rating from one to five, with higher numbers indicating lower risk and better credit. A company\\'', '\\'a measure of the creditworthiness or safety of an entity\". In finance, a credit rating is an assessment of the financial strength and creditworthiness of a company or government. It is usually expressed by a\\'', '\\'an assessment of an entity\\\\\\'s creditworthiness or financial stability\". In other words, it is a measure of the entity\\\\\\'s ability to repay its debts.\\\\n\\\\nIn finance, a credit rating is\\'', '\\'a evaluation or assessment of someone or something, usually by a professional.\" It is often used to indicate the financial worth, creditworthiness, or reliability of a person or organization.\\'', '\\'an assessment of the ability of an entity to repay a debt or obligation.\" A credit rating agency, such as Moody\\\\\\'s or Standard & Poor\\\\\\'s, assigns a credit rating to a company or\\'', '\\'the agency or authority that assesses the risks and creditsworthiness of someone or something.\" It is used to indicate the level of financial and credit risk associated with an entity.\\'', '\\'the judgment or assessment of a person or organization by someone who is expert in that field.\" It is typically used in a specific area of expertise to indicate the level of confidence in the assessment given by that\\'', '\\'a measure of a thing\\\\\\'s credit, financial strength, or capability to meet a debt or obligation.\" In simpler terms, it is a assessment of the risk associated with an investment or loan.\\'', '\\'the rate at which a borrower repays a loan or the rate at which a supplier pays for goods or services.\"\\'', '\\'the assessment of a debt or obligation by a credit agency.\" A credit agency is a company that makes credit risk assessments and provides ratings. Ratings are numerical values that reflect a company\\\\\\'s creditworthiness,\\'']\n"
     ]
    }
   ],
   "source": [
    "prompt = '<start_of_turn>user\\nWhat is the meaning of the word \"X\"?<end_of_turn>\\n<start_of_turn>model\\nThe meaning of the word \"X\" is \"'\n",
    "\n",
    "# Find positions of the token \"X\" in the encoded prompt\n",
    "positions = [i for i, a in enumerate(model.tokenizer.encode(prompt)) if model.tokenizer.decode([a]) == \"X\"]\n",
    "\n",
    "# Generate new sequences based on the prompt\n",
    "with model.generate(prompt, max_new_tokens=max_new_tokens, num_return_sequences=10, do_sample=True, scan=False, validate=False) as gen:\n",
    "    # Normalize and scale the vector for the current feature\n",
    "    vector = w_dec[[feature]]\n",
    "    vector = vector / vector.norm()\n",
    "    vector = vector * scale\n",
    "\n",
    "    # Insert the vector into the model's output at the identified positions\n",
    "    for position in positions:\n",
    "        model.model.layers[2].output[0][:, position] = vector\n",
    "\n",
    "    # Save the generated output\n",
    "    out = model.generator.output.save()\n",
    "\n",
    "# Initialize a local list to store explanations for the current feature\n",
    "local = []\n",
    "\n",
    "# Decode the generated output and extract the relevant part of the response\n",
    "\n",
    "# Decode the generated output and extract the relevant part of the response\n",
    "for i, l in enumerate(model.tokenizer.batch_decode(out)):\n",
    "    local.append(repr(l.partition(prompt)[2].partition(\"<eos>\")[0]))\n",
    "\n",
    "print(local)"
   ]
  }
 ],
 "metadata": {
  "kernelspec": {
   "display_name": "Python 3 (ipykernel)",
   "language": "python",
   "name": "python3"
  },
  "language_info": {
   "codemirror_mode": {
    "name": "ipython",
    "version": 3
   },
   "file_extension": ".py",
   "mimetype": "text/x-python",
   "name": "python",
   "nbconvert_exporter": "python",
   "pygments_lexer": "ipython3",
   "version": "3.11.11"
  }
 },
 "nbformat": 4,
 "nbformat_minor": 5
}
